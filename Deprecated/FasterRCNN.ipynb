{
  "cells": [
    {
      "cell_type": "code",
      "execution_count": null,
      "id": "L14NNf3Tfa-p",
      "metadata": {
        "colab": {
          "base_uri": "https://localhost:8080/"
        },
        "id": "L14NNf3Tfa-p",
        "outputId": "6b81688c-78cb-4904-e072-9b391f77b65f"
      },
      "outputs": [
        {
          "name": "stdout",
          "output_type": "stream",
          "text": [
            "Mounted at /content/drive\n"
          ]
        }
      ],
      "source": [
        "from google.colab import drive\n",
        "drive.mount('/content/drive')"
      ]
    },
    {
      "cell_type": "code",
      "execution_count": null,
      "id": "9c9f0c51",
      "metadata": {
        "id": "9c9f0c51"
      },
      "outputs": [],
      "source": [
        "import os\n",
        "import json\n",
        "\n",
        "import numpy as np\n",
        "import pandas as pd\n",
        "import matplotlib.pyplot as plt\n",
        "import seaborn as sn\n",
        "import torch\n",
        "import torch.optim as optim\n",
        "import torch.nn as nn\n",
        "import torch.nn.functional as F\n",
        "from torch.autograd import Variable\n",
        "from torch.utils.data import Dataset, DataLoader\n",
        "\n",
        "\n",
        "import torchvision\n",
        "from torchvision import transforms as T\n",
        "from torchvision.models import detection\n",
        "from torchvision.models.detection.faster_rcnn import FastRCNNPredictor\n",
        "from torchvision.datasets.utils import download_url\n",
        "import torchvision.transforms as tt\n",
        "from torchvision.datasets import ImageFolder\n",
        "from torchvision.ops import box_convert\n",
        "\n",
        "from torch.utils.data import random_split\n",
        "from torchvision.utils import make_grid\n",
        "from torchvision import transforms\n",
        "from collections import Counter\n",
        "\n",
        "from PIL import Image, ImageDraw\n",
        "import cv2\n",
        "from torch.cuda import is_available as check_cuda\n",
        "from PIL.ImageOps import grayscale"
      ]
    },
    {
      "cell_type": "code",
      "execution_count": null,
      "id": "d587da57",
      "metadata": {
        "id": "d587da57"
      },
      "outputs": [],
      "source": [
        "from sklearn.model_selection import train_test_split"
      ]
    },
    {
      "cell_type": "markdown",
      "id": "bfd3f669",
      "metadata": {
        "id": "bfd3f669"
      },
      "source": [
        "# Load Data"
      ]
    },
    {
      "cell_type": "code",
      "execution_count": null,
      "id": "ca38a814",
      "metadata": {
        "id": "ca38a814"
      },
      "outputs": [],
      "source": [
        "# Load all labels, boxes data\n",
        "labels_dict = {}\n",
        "to_df = []\n",
        "#folder_name = os.path.dirname(os.getcwd()) + \"\\\\Processed Data\\\\preprocessed_data\\\\AI+_processed\\\\jsons\"\n",
        "folder_name = \"/content/drive/MyDrive/Practicum Data/Processed Data/preprocessed_data/AI+_processed/jsons\"\n",
        "for path in os.listdir(folder_name):\n",
        "    with open(os.path.join(folder_name,path)) as json_file:\n",
        "        data = json.load(json_file)\n",
        "    im = path.replace('.json','')\n",
        "    labels = [data['shapes'][0]['label']]\n",
        "    pts = data['shapes'][0]['points']\n",
        "    pts_correct_format = [np.array([pts[0][0],pts[0][1],pts[1][0],pts[1][1]])]\n",
        "    labels_dict[im] = {'label':labels,'boxes':pts_correct_format}\n",
        "    to_df.append([im,pts[0][0],pts[0][1],pts[1][0],pts[1][1],labels[0]])\n",
        "\n",
        "df = pd.DataFrame(to_df,columns=['image_id','x1','y1','x2','y2','label'])\n",
        "df['label_bool'] = [1 if df.loc[i,'label'] == 'benign' else 2 for i in range(len(df))]\n",
        "df = df.drop(['label'],axis=1)\n",
        "unique_imgs = df['image_id'].unique()"
      ]
    },
    {
      "cell_type": "code",
      "execution_count": null,
      "id": "gcvTlJTnRC5x",
      "metadata": {
        "colab": {
          "base_uri": "https://localhost:8080/",
          "height": 270
        },
        "id": "gcvTlJTnRC5x",
        "outputId": "b0a058d6-dd5b-4b79-a657-d93cf52e88ed"
      },
      "outputs": [
        {
          "data": {
            "text/html": [
              "\n",
              "  <div id=\"df-b4d3a9ea-3097-41fa-9844-d5f692471ea7\">\n",
              "    <div class=\"colab-df-container\">\n",
              "      <div>\n",
              "<style scoped>\n",
              "    .dataframe tbody tr th:only-of-type {\n",
              "        vertical-align: middle;\n",
              "    }\n",
              "\n",
              "    .dataframe tbody tr th {\n",
              "        vertical-align: top;\n",
              "    }\n",
              "\n",
              "    .dataframe thead th {\n",
              "        text-align: right;\n",
              "    }\n",
              "</style>\n",
              "<table border=\"1\" class=\"dataframe\">\n",
              "  <thead>\n",
              "    <tr style=\"text-align: right;\">\n",
              "      <th></th>\n",
              "      <th>image_name</th>\n",
              "      <th>image_type</th>\n",
              "      <th>image_height</th>\n",
              "      <th>image_width</th>\n",
              "      <th>label</th>\n",
              "      <th>dataset</th>\n",
              "      <th>case_id</th>\n",
              "    </tr>\n",
              "  </thead>\n",
              "  <tbody>\n",
              "    <tr>\n",
              "      <th>1</th>\n",
              "      <td>051D402B1CE1483B9D6519C3CFE6CFAF_8277284</td>\n",
              "      <td>jpg</td>\n",
              "      <td>473</td>\n",
              "      <td>734</td>\n",
              "      <td>malignant</td>\n",
              "      <td>AIplus</td>\n",
              "      <td>13136661</td>\n",
              "    </tr>\n",
              "    <tr>\n",
              "      <th>2</th>\n",
              "      <td>051D402B1CE1483B9D6519C3CFE6CFAF_8277285</td>\n",
              "      <td>jpg</td>\n",
              "      <td>473</td>\n",
              "      <td>734</td>\n",
              "      <td>malignant</td>\n",
              "      <td>AIplus</td>\n",
              "      <td>13136661</td>\n",
              "    </tr>\n",
              "    <tr>\n",
              "      <th>3</th>\n",
              "      <td>051D402B1CE1483B9D6519C3CFE6CFAF_8277286</td>\n",
              "      <td>jpg</td>\n",
              "      <td>473</td>\n",
              "      <td>734</td>\n",
              "      <td>malignant</td>\n",
              "      <td>AIplus</td>\n",
              "      <td>13136661</td>\n",
              "    </tr>\n",
              "    <tr>\n",
              "      <th>4</th>\n",
              "      <td>1.2.826.0.1.3680043.2.461.10889799.1302130936</td>\n",
              "      <td>jpg</td>\n",
              "      <td>331</td>\n",
              "      <td>474</td>\n",
              "      <td>benign</td>\n",
              "      <td>AIplus</td>\n",
              "      <td>13121058</td>\n",
              "    </tr>\n",
              "    <tr>\n",
              "      <th>5</th>\n",
              "      <td>1.2.826.0.1.3680043.2.461.10889799.2958215132</td>\n",
              "      <td>jpg</td>\n",
              "      <td>333</td>\n",
              "      <td>473</td>\n",
              "      <td>benign</td>\n",
              "      <td>AIplus</td>\n",
              "      <td>13121058</td>\n",
              "    </tr>\n",
              "  </tbody>\n",
              "</table>\n",
              "</div>\n",
              "      <button class=\"colab-df-convert\" onclick=\"convertToInteractive('df-b4d3a9ea-3097-41fa-9844-d5f692471ea7')\"\n",
              "              title=\"Convert this dataframe to an interactive table.\"\n",
              "              style=\"display:none;\">\n",
              "        \n",
              "  <svg xmlns=\"http://www.w3.org/2000/svg\" height=\"24px\"viewBox=\"0 0 24 24\"\n",
              "       width=\"24px\">\n",
              "    <path d=\"M0 0h24v24H0V0z\" fill=\"none\"/>\n",
              "    <path d=\"M18.56 5.44l.94 2.06.94-2.06 2.06-.94-2.06-.94-.94-2.06-.94 2.06-2.06.94zm-11 1L8.5 8.5l.94-2.06 2.06-.94-2.06-.94L8.5 2.5l-.94 2.06-2.06.94zm10 10l.94 2.06.94-2.06 2.06-.94-2.06-.94-.94-2.06-.94 2.06-2.06.94z\"/><path d=\"M17.41 7.96l-1.37-1.37c-.4-.4-.92-.59-1.43-.59-.52 0-1.04.2-1.43.59L10.3 9.45l-7.72 7.72c-.78.78-.78 2.05 0 2.83L4 21.41c.39.39.9.59 1.41.59.51 0 1.02-.2 1.41-.59l7.78-7.78 2.81-2.81c.8-.78.8-2.07 0-2.86zM5.41 20L4 18.59l7.72-7.72 1.47 1.35L5.41 20z\"/>\n",
              "  </svg>\n",
              "      </button>\n",
              "      \n",
              "  <style>\n",
              "    .colab-df-container {\n",
              "      display:flex;\n",
              "      flex-wrap:wrap;\n",
              "      gap: 12px;\n",
              "    }\n",
              "\n",
              "    .colab-df-convert {\n",
              "      background-color: #E8F0FE;\n",
              "      border: none;\n",
              "      border-radius: 50%;\n",
              "      cursor: pointer;\n",
              "      display: none;\n",
              "      fill: #1967D2;\n",
              "      height: 32px;\n",
              "      padding: 0 0 0 0;\n",
              "      width: 32px;\n",
              "    }\n",
              "\n",
              "    .colab-df-convert:hover {\n",
              "      background-color: #E2EBFA;\n",
              "      box-shadow: 0px 1px 2px rgba(60, 64, 67, 0.3), 0px 1px 3px 1px rgba(60, 64, 67, 0.15);\n",
              "      fill: #174EA6;\n",
              "    }\n",
              "\n",
              "    [theme=dark] .colab-df-convert {\n",
              "      background-color: #3B4455;\n",
              "      fill: #D2E3FC;\n",
              "    }\n",
              "\n",
              "    [theme=dark] .colab-df-convert:hover {\n",
              "      background-color: #434B5C;\n",
              "      box-shadow: 0px 1px 3px 1px rgba(0, 0, 0, 0.15);\n",
              "      filter: drop-shadow(0px 1px 2px rgba(0, 0, 0, 0.3));\n",
              "      fill: #FFFFFF;\n",
              "    }\n",
              "  </style>\n",
              "\n",
              "      <script>\n",
              "        const buttonEl =\n",
              "          document.querySelector('#df-b4d3a9ea-3097-41fa-9844-d5f692471ea7 button.colab-df-convert');\n",
              "        buttonEl.style.display =\n",
              "          google.colab.kernel.accessAllowed ? 'block' : 'none';\n",
              "\n",
              "        async function convertToInteractive(key) {\n",
              "          const element = document.querySelector('#df-b4d3a9ea-3097-41fa-9844-d5f692471ea7');\n",
              "          const dataTable =\n",
              "            await google.colab.kernel.invokeFunction('convertToInteractive',\n",
              "                                                     [key], {});\n",
              "          if (!dataTable) return;\n",
              "\n",
              "          const docLinkHtml = 'Like what you see? Visit the ' +\n",
              "            '<a target=\"_blank\" href=https://colab.research.google.com/notebooks/data_table.ipynb>data table notebook</a>'\n",
              "            + ' to learn more about interactive tables.';\n",
              "          element.innerHTML = '';\n",
              "          dataTable['output_type'] = 'display_data';\n",
              "          await google.colab.output.renderOutput(dataTable, element);\n",
              "          const docLink = document.createElement('div');\n",
              "          docLink.innerHTML = docLinkHtml;\n",
              "          element.appendChild(docLink);\n",
              "        }\n",
              "      </script>\n",
              "    </div>\n",
              "  </div>\n",
              "  "
            ],
            "text/plain": [
              "                                      image_name image_type  image_height  \\\n",
              "1       051D402B1CE1483B9D6519C3CFE6CFAF_8277284        jpg           473   \n",
              "2       051D402B1CE1483B9D6519C3CFE6CFAF_8277285        jpg           473   \n",
              "3       051D402B1CE1483B9D6519C3CFE6CFAF_8277286        jpg           473   \n",
              "4  1.2.826.0.1.3680043.2.461.10889799.1302130936        jpg           331   \n",
              "5  1.2.826.0.1.3680043.2.461.10889799.2958215132        jpg           333   \n",
              "\n",
              "   image_width      label dataset   case_id  \n",
              "1          734  malignant  AIplus  13136661  \n",
              "2          734  malignant  AIplus  13136661  \n",
              "3          734  malignant  AIplus  13136661  \n",
              "4          474     benign  AIplus  13121058  \n",
              "5          473     benign  AIplus  13121058  "
            ]
          },
          "execution_count": 5,
          "metadata": {},
          "output_type": "execute_result"
        }
      ],
      "source": [
        "for_splitting = pd.read_csv('/content/drive/MyDrive/Practicum Data/Processed Data/metadata_df_all.csv')\n",
        "for_splitting = for_splitting.iloc[1:,:]\n",
        "unique_cases = list(for_splitting['case_id'].unique())\n",
        "for_splitting.head()"
      ]
    },
    {
      "cell_type": "code",
      "execution_count": null,
      "id": "a3afead5",
      "metadata": {
        "colab": {
          "base_uri": "https://localhost:8080/"
        },
        "id": "a3afead5",
        "outputId": "241c3c49-785f-4b41-a83c-1c9e5093b7a6"
      },
      "outputs": [
        {
          "name": "stdout",
          "output_type": "stream",
          "text": [
            "1032 113\n"
          ]
        }
      ],
      "source": [
        "train_inds,val_inds = train_test_split(unique_cases,test_size=0.1,random_state=1993)\n",
        "train_inds = list(for_splitting[for_splitting['case_id'].isin(train_inds)]['image_name'])\n",
        "val_inds = list(for_splitting[for_splitting['case_id'].isin(val_inds)]['image_name'])\n",
        "train_inds = [list(unique_imgs).index(i) for i in train_inds if i in unique_imgs]\n",
        "val_inds = [list(unique_imgs).index(i) for i in val_inds if i in unique_imgs]\n",
        "print(len(train_inds),len(val_inds))"
      ]
    },
    {
      "cell_type": "code",
      "execution_count": null,
      "id": "k5k9xsG-gp93",
      "metadata": {
        "colab": {
          "base_uri": "https://localhost:8080/",
          "height": 206
        },
        "id": "k5k9xsG-gp93",
        "outputId": "5c2ac0eb-b871-4e4b-a616-868ced516da6"
      },
      "outputs": [
        {
          "data": {
            "text/html": [
              "\n",
              "  <div id=\"df-f5e3b34e-b336-4d8b-bab0-1d86ca759a44\">\n",
              "    <div class=\"colab-df-container\">\n",
              "      <div>\n",
              "<style scoped>\n",
              "    .dataframe tbody tr th:only-of-type {\n",
              "        vertical-align: middle;\n",
              "    }\n",
              "\n",
              "    .dataframe tbody tr th {\n",
              "        vertical-align: top;\n",
              "    }\n",
              "\n",
              "    .dataframe thead th {\n",
              "        text-align: right;\n",
              "    }\n",
              "</style>\n",
              "<table border=\"1\" class=\"dataframe\">\n",
              "  <thead>\n",
              "    <tr style=\"text-align: right;\">\n",
              "      <th></th>\n",
              "      <th>image_id</th>\n",
              "      <th>x1</th>\n",
              "      <th>y1</th>\n",
              "      <th>x2</th>\n",
              "      <th>y2</th>\n",
              "      <th>label_bool</th>\n",
              "    </tr>\n",
              "  </thead>\n",
              "  <tbody>\n",
              "    <tr>\n",
              "      <th>0</th>\n",
              "      <td>20180720091141</td>\n",
              "      <td>164.384615</td>\n",
              "      <td>57.995951</td>\n",
              "      <td>247.380567</td>\n",
              "      <td>87.955466</td>\n",
              "      <td>1</td>\n",
              "    </tr>\n",
              "    <tr>\n",
              "      <th>1</th>\n",
              "      <td>20181112141259</td>\n",
              "      <td>106.570850</td>\n",
              "      <td>37.753036</td>\n",
              "      <td>252.319838</td>\n",
              "      <td>195.242915</td>\n",
              "      <td>2</td>\n",
              "    </tr>\n",
              "    <tr>\n",
              "      <th>2</th>\n",
              "      <td>20180717094148</td>\n",
              "      <td>93.615385</td>\n",
              "      <td>91.599190</td>\n",
              "      <td>221.550607</td>\n",
              "      <td>196.052632</td>\n",
              "      <td>2</td>\n",
              "    </tr>\n",
              "    <tr>\n",
              "      <th>3</th>\n",
              "      <td>20181119135628</td>\n",
              "      <td>185.072874</td>\n",
              "      <td>75.263158</td>\n",
              "      <td>492.360324</td>\n",
              "      <td>328.704453</td>\n",
              "      <td>2</td>\n",
              "    </tr>\n",
              "    <tr>\n",
              "      <th>4</th>\n",
              "      <td>20181113113547</td>\n",
              "      <td>109.283401</td>\n",
              "      <td>30.101215</td>\n",
              "      <td>558.676113</td>\n",
              "      <td>301.761134</td>\n",
              "      <td>2</td>\n",
              "    </tr>\n",
              "  </tbody>\n",
              "</table>\n",
              "</div>\n",
              "      <button class=\"colab-df-convert\" onclick=\"convertToInteractive('df-f5e3b34e-b336-4d8b-bab0-1d86ca759a44')\"\n",
              "              title=\"Convert this dataframe to an interactive table.\"\n",
              "              style=\"display:none;\">\n",
              "        \n",
              "  <svg xmlns=\"http://www.w3.org/2000/svg\" height=\"24px\"viewBox=\"0 0 24 24\"\n",
              "       width=\"24px\">\n",
              "    <path d=\"M0 0h24v24H0V0z\" fill=\"none\"/>\n",
              "    <path d=\"M18.56 5.44l.94 2.06.94-2.06 2.06-.94-2.06-.94-.94-2.06-.94 2.06-2.06.94zm-11 1L8.5 8.5l.94-2.06 2.06-.94-2.06-.94L8.5 2.5l-.94 2.06-2.06.94zm10 10l.94 2.06.94-2.06 2.06-.94-2.06-.94-.94-2.06-.94 2.06-2.06.94z\"/><path d=\"M17.41 7.96l-1.37-1.37c-.4-.4-.92-.59-1.43-.59-.52 0-1.04.2-1.43.59L10.3 9.45l-7.72 7.72c-.78.78-.78 2.05 0 2.83L4 21.41c.39.39.9.59 1.41.59.51 0 1.02-.2 1.41-.59l7.78-7.78 2.81-2.81c.8-.78.8-2.07 0-2.86zM5.41 20L4 18.59l7.72-7.72 1.47 1.35L5.41 20z\"/>\n",
              "  </svg>\n",
              "      </button>\n",
              "      \n",
              "  <style>\n",
              "    .colab-df-container {\n",
              "      display:flex;\n",
              "      flex-wrap:wrap;\n",
              "      gap: 12px;\n",
              "    }\n",
              "\n",
              "    .colab-df-convert {\n",
              "      background-color: #E8F0FE;\n",
              "      border: none;\n",
              "      border-radius: 50%;\n",
              "      cursor: pointer;\n",
              "      display: none;\n",
              "      fill: #1967D2;\n",
              "      height: 32px;\n",
              "      padding: 0 0 0 0;\n",
              "      width: 32px;\n",
              "    }\n",
              "\n",
              "    .colab-df-convert:hover {\n",
              "      background-color: #E2EBFA;\n",
              "      box-shadow: 0px 1px 2px rgba(60, 64, 67, 0.3), 0px 1px 3px 1px rgba(60, 64, 67, 0.15);\n",
              "      fill: #174EA6;\n",
              "    }\n",
              "\n",
              "    [theme=dark] .colab-df-convert {\n",
              "      background-color: #3B4455;\n",
              "      fill: #D2E3FC;\n",
              "    }\n",
              "\n",
              "    [theme=dark] .colab-df-convert:hover {\n",
              "      background-color: #434B5C;\n",
              "      box-shadow: 0px 1px 3px 1px rgba(0, 0, 0, 0.15);\n",
              "      filter: drop-shadow(0px 1px 2px rgba(0, 0, 0, 0.3));\n",
              "      fill: #FFFFFF;\n",
              "    }\n",
              "  </style>\n",
              "\n",
              "      <script>\n",
              "        const buttonEl =\n",
              "          document.querySelector('#df-f5e3b34e-b336-4d8b-bab0-1d86ca759a44 button.colab-df-convert');\n",
              "        buttonEl.style.display =\n",
              "          google.colab.kernel.accessAllowed ? 'block' : 'none';\n",
              "\n",
              "        async function convertToInteractive(key) {\n",
              "          const element = document.querySelector('#df-f5e3b34e-b336-4d8b-bab0-1d86ca759a44');\n",
              "          const dataTable =\n",
              "            await google.colab.kernel.invokeFunction('convertToInteractive',\n",
              "                                                     [key], {});\n",
              "          if (!dataTable) return;\n",
              "\n",
              "          const docLinkHtml = 'Like what you see? Visit the ' +\n",
              "            '<a target=\"_blank\" href=https://colab.research.google.com/notebooks/data_table.ipynb>data table notebook</a>'\n",
              "            + ' to learn more about interactive tables.';\n",
              "          element.innerHTML = '';\n",
              "          dataTable['output_type'] = 'display_data';\n",
              "          await google.colab.output.renderOutput(dataTable, element);\n",
              "          const docLink = document.createElement('div');\n",
              "          docLink.innerHTML = docLinkHtml;\n",
              "          element.appendChild(docLink);\n",
              "        }\n",
              "      </script>\n",
              "    </div>\n",
              "  </div>\n",
              "  "
            ],
            "text/plain": [
              "         image_id          x1         y1          x2          y2  label_bool\n",
              "0  20180720091141  164.384615  57.995951  247.380567   87.955466           1\n",
              "1  20181112141259  106.570850  37.753036  252.319838  195.242915           2\n",
              "2  20180717094148   93.615385  91.599190  221.550607  196.052632           2\n",
              "3  20181119135628  185.072874  75.263158  492.360324  328.704453           2\n",
              "4  20181113113547  109.283401  30.101215  558.676113  301.761134           2"
            ]
          },
          "execution_count": 51,
          "metadata": {},
          "output_type": "execute_result"
        }
      ],
      "source": [
        "df.head()"
      ]
    },
    {
      "cell_type": "markdown",
      "id": "df4a0bc1",
      "metadata": {
        "id": "df4a0bc1"
      },
      "source": [
        "# Setting up Dataset"
      ]
    },
    {
      "cell_type": "code",
      "execution_count": null,
      "id": "aa8a4701",
      "metadata": {
        "id": "aa8a4701"
      },
      "outputs": [],
      "source": [
        "class CustData(torch.utils.data.Dataset):\n",
        "    def __init__(self,df,unique_imgs,indices):\n",
        "        self.df = df\n",
        "        self.unique_imgs = unique_imgs\n",
        "        self.indices = indices\n",
        "    def __len__(self):\n",
        "        return len(self.indices)\n",
        "    def __getitem__(self,idx):\n",
        "        image_name = self.unique_imgs[self.indices[idx]]\n",
        "        boxes = self.df[self.df.image_id == image_name].values[:,1:5].astype(\"float\")\n",
        "        #img = Image.open(r'../Processed Data/preprocessed_data/AI+_processed/imgs/'+image_name+\".jpg\").convert('RGB')\n",
        "        img = Image.open(r'/content/drive/MyDrive/Practicum Data/Processed Data/preprocessed_data/AI+_processed/imgs/'+image_name+\".jpg\").convert('RGB')\n",
        "        labels = torch.Tensor(self.df['label_bool']).to(torch.int64)\n",
        "        target = {}\n",
        "        target['boxes'] = torch.tensor(boxes)\n",
        "        target['label'] = labels\n",
        "        return T.ToTensor()(img), target"
      ]
    },
    {
      "cell_type": "code",
      "execution_count": null,
      "id": "33a63af3",
      "metadata": {
        "id": "33a63af3"
      },
      "outputs": [],
      "source": [
        "def custom_collate(data):\n",
        "    return data"
      ]
    },
    {
      "cell_type": "code",
      "execution_count": null,
      "id": "a1375c4a",
      "metadata": {
        "id": "a1375c4a"
      },
      "outputs": [],
      "source": [
        "train_dl = torch.utils.data.DataLoader(CustData(df,unique_imgs,train_inds),\n",
        "                                      batch_size = 4, # !!!\n",
        "                                      shuffle = True,\n",
        "                                      collate_fn = custom_collate,\n",
        "                                      pin_memory = True if torch.cuda.is_available() else False)"
      ]
    },
    {
      "cell_type": "code",
      "execution_count": null,
      "id": "Xjb1j_NMvVlm",
      "metadata": {
        "id": "Xjb1j_NMvVlm"
      },
      "outputs": [],
      "source": [
        "val_dl = torch.utils.data.DataLoader(CustData(df,unique_imgs,val_inds),\n",
        "                                    batch_size = 8,\n",
        "                                    shuffle = False,\n",
        "                                    collate_fn = custom_collate,\n",
        "                                    pin_memory = True if torch.cuda.is_available() else False\n",
        "                                    )"
      ]
    },
    {
      "cell_type": "markdown",
      "id": "3a17178e",
      "metadata": {
        "id": "3a17178e"
      },
      "source": [
        "# Model Training"
      ]
    },
    {
      "cell_type": "code",
      "execution_count": null,
      "id": "748d54a1",
      "metadata": {
        "id": "748d54a1"
      },
      "outputs": [],
      "source": [
        "model = torchvision.models.detection.fasterrcnn_resnet50_fpn(pretrained=True)\n",
        "num_classes = 3\n",
        "in_features = model.roi_heads.box_predictor.cls_score.in_features\n",
        "model.roi_heads.box_predictor = FastRCNNPredictor(in_features,num_classes)"
      ]
    },
    {
      "cell_type": "code",
      "execution_count": null,
      "id": "b787d671",
      "metadata": {
        "colab": {
          "base_uri": "https://localhost:8080/"
        },
        "id": "b787d671",
        "outputId": "3fcfab3b-d309-4507-af4a-23ac063a46ee"
      },
      "outputs": [
        {
          "name": "stdout",
          "output_type": "stream",
          "text": [
            "cuda\n"
          ]
        }
      ],
      "source": [
        "device = torch.device('cuda') if torch.cuda.is_available() else torch.device('cpu')\n",
        "print(device)"
      ]
    },
    {
      "cell_type": "code",
      "execution_count": null,
      "id": "4867ba38",
      "metadata": {
        "id": "4867ba38"
      },
      "outputs": [],
      "source": [
        "optimizer = torch.optim.SGD(model.parameters(), lr=0.0005, momentum = 0.9, weight_decay=0.0005)\n",
        "#optimizer = torch.optim.Adam(model.parameters(), lr=0.0005, weight_decay=0.0005)"
      ]
    },
    {
      "cell_type": "code",
      "execution_count": null,
      "id": "0661885f",
      "metadata": {
        "colab": {
          "base_uri": "https://localhost:8080/"
        },
        "id": "0661885f",
        "outputId": "d32adb13-5992-4598-aa48-6dbed873b6d2"
      },
      "outputs": [
        {
          "name": "stdout",
          "output_type": "stream",
          "text": [
            "53.16481446676831\n",
            "31.30473896618326\n",
            "26.478667316840834\n",
            "24.503067402870286\n",
            "23.042972047071228\n"
          ]
        }
      ],
      "source": [
        "num_epochs = 5\n",
        "model.to(device)\n",
        "\n",
        "for epochs in range(num_epochs):\n",
        "    epoch_loss = 0\n",
        "    for data in train_dl:\n",
        "        imgs = []\n",
        "        targets = []\n",
        "        for d in data:\n",
        "            imgs.append(d[0].to(device))\n",
        "            targ = {}\n",
        "            targ['boxes'] = d[1]['boxes'].to(device)\n",
        "            targ['labels'] = d[1]['label'].to(device)\n",
        "            targets.append(targ)\n",
        "        loss_dict = model(imgs,targets)\n",
        "        loss = sum(v for v in loss_dict.values())\n",
        "        epoch_loss += loss.cpu().detach().numpy()\n",
        "        optimizer.zero_grad()\n",
        "        loss.backward()\n",
        "        optimizer.step()\n",
        "    print(epoch_loss)"
      ]
    },
    {
      "cell_type": "code",
      "execution_count": null,
      "id": "3fcd05b9",
      "metadata": {
        "id": "3fcd05b9"
      },
      "outputs": [],
      "source": [
        "torch.save(model,'/content/drive/MyDrive/fasterrcnn_renet50_withadam_lr0005.pth')"
      ]
    },
    {
      "cell_type": "markdown",
      "id": "TUe_Bjbeucro",
      "metadata": {
        "id": "TUe_Bjbeucro"
      },
      "source": [
        "# Loading Model for Experimentation"
      ]
    },
    {
      "cell_type": "code",
      "execution_count": null,
      "id": "Owbc_9IaujCh",
      "metadata": {
        "colab": {
          "base_uri": "https://localhost:8080/"
        },
        "id": "Owbc_9IaujCh",
        "outputId": "f241d9f4-add1-4879-f9d1-a854ee1084a6"
      },
      "outputs": [
        {
          "name": "stdout",
          "output_type": "stream",
          "text": [
            "1\n"
          ]
        }
      ],
      "source": [
        "model = torch.load('/content/drive/MyDrive/Practicum Model Saves/fasterrcnn_renet50.pth')\n",
        "model.eval()\n",
        "print(1)"
      ]
    },
    {
      "cell_type": "code",
      "execution_count": null,
      "id": "nS-jRVZ3ur-u",
      "metadata": {
        "id": "nS-jRVZ3ur-u"
      },
      "outputs": [],
      "source": [
        "final_results = {}\n",
        "#data=iter(val_dl).__next__()\n",
        "for step, data in enumerate(val_dl):\n",
        "  for i in range(len(data)):\n",
        "    img = data[i][0]\n",
        "    boxes = data[i][1]['boxes']\n",
        "    labels = data[i][1]['label']\n",
        "\n",
        "\n",
        "    output = model([img.to(device)])\n",
        "    pred_box = output[0]['boxes'].detach().tolist()\n",
        "    pred_labels = output[0]['labels'].detach()\n",
        "    idx_in_inds = 8*step+i\n",
        "    val_ind = val_inds[idx_in_inds]\n",
        "    img_name = str(unique_imgs[val_ind])+'.jpg'\n",
        "    final_results[img_name] = pred_box\n",
        "\n",
        "  ##### CODE BELOW IS FOR DISPLAYING ############\n",
        "    #p  = Image.fromarray((img.permute(1,2,0).detach().numpy()*255).astype('uint8'))\n",
        "    #draw = ImageDraw.Draw(p)\n",
        "\n",
        "    ### Visualize Real Bounding Boxes\n",
        "    #for box in boxes:\n",
        "      #draw.rectangle(list(box), fill=None, outline='red')\n",
        "\n",
        "    ### Visualize predicted Bounding Boxes\n",
        "    #for box in pred_box:\n",
        "      #draw.rectangle(list(box), fill=None, outline='blue')\n",
        "\n",
        "    #display(p)"
      ]
    },
    {
      "cell_type": "code",
      "execution_count": null,
      "id": "l7bvUTABT8Qs",
      "metadata": {
        "id": "l7bvUTABT8Qs"
      },
      "outputs": [],
      "source": [
        "# open a file for writing\n",
        "with open('data.json', 'w') as f:\n",
        "    # write the dictionary to the file in JSON format\n",
        "    json.dump(final_results, f)"
      ]
    }
  ],
  "metadata": {
    "accelerator": "GPU",
    "colab": {
      "provenance": []
    },
    "kernelspec": {
      "display_name": "Python 3",
      "name": "python3"
    },
    "language_info": {
      "codemirror_mode": {
        "name": "ipython",
        "version": 3
      },
      "file_extension": ".py",
      "mimetype": "text/x-python",
      "name": "python",
      "nbconvert_exporter": "python",
      "pygments_lexer": "ipython3",
      "version": "3.9.12"
    }
  },
  "nbformat": 4,
  "nbformat_minor": 5
}
