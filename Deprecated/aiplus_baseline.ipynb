{
 "cells": [
  {
   "cell_type": "code",
   "execution_count": 1,
   "metadata": {},
   "outputs": [
    {
     "name": "stderr",
     "output_type": "stream",
     "text": [
      "Ultralytics YOLOv8.0.114  Python-3.9.16 torch-2.0.1 CUDA:0 (NVIDIA GeForce RTX 3080 Ti Laptop GPU, 16384MiB)\n",
      "Setup complete  (20 CPUs, 31.7 GB RAM, 791.9/934.5 GB disk)\n"
     ]
    }
   ],
   "source": [
    "import os\n",
    "import sys\n",
    "\n",
    "import ultralytics\n",
    "from ultralytics import YOLO\n",
    "\n",
    "ultralytics.checks()"
   ]
  },
  {
   "cell_type": "code",
   "execution_count": 2,
   "metadata": {},
   "outputs": [],
   "source": [
    "# print(sys.path)"
   ]
  },
  {
   "attachments": {},
   "cell_type": "markdown",
   "metadata": {},
   "source": [
    "# Train"
   ]
  },
  {
   "cell_type": "code",
   "execution_count": 3,
   "metadata": {},
   "outputs": [
    {
     "name": "stderr",
     "output_type": "stream",
     "text": [
      "New https://pypi.org/project/ultralytics/8.0.132 available  Update with 'pip install -U ultralytics'\n",
      "Ultralytics YOLOv8.0.114  Python-3.9.16 torch-2.0.1 CUDA:0 (NVIDIA GeForce RTX 3080 Ti Laptop GPU, 16384MiB)\n",
      "\u001b[34m\u001b[1myolo\\engine\\trainer: \u001b[0mtask=detect, mode=train, model=yolov8l.pt, data=./aiplus_bi.yaml, epochs=400, patience=50, batch=16, imgsz=640, save=True, save_period=-1, cache=False, device=None, workers=8, project=None, name=None, exist_ok=False, pretrained=False, optimizer=Adam, verbose=True, seed=0, deterministic=True, single_cls=False, rect=False, cos_lr=False, close_mosaic=0, resume=False, amp=True, fraction=1.0, profile=False, overlap_mask=True, mask_ratio=4, dropout=0.0, val=True, split=val, save_json=False, save_hybrid=False, conf=None, iou=0.7, max_det=300, half=False, dnn=False, plots=True, source=None, show=False, save_txt=False, save_conf=False, save_crop=False, show_labels=True, show_conf=True, vid_stride=1, line_width=None, visualize=False, augment=False, agnostic_nms=False, classes=None, retina_masks=False, boxes=True, format=torchscript, keras=False, optimize=False, int8=False, dynamic=False, simplify=False, opset=None, workspace=4, nms=False, lr0=1e-05, lrf=0.01, momentum=0.937, weight_decay=0.0005, warmup_epochs=3.0, warmup_momentum=0.8, warmup_bias_lr=0.1, box=7.5, cls=0.5, dfl=1.5, pose=12.0, kobj=1.0, label_smoothing=0.0, nbs=64, hsv_h=0.015, hsv_s=0.7, hsv_v=0.4, degrees=0.0, translate=0.1, scale=0.5, shear=0.0, perspective=0.0, flipud=0.0, fliplr=0.5, mosaic=1.0, mixup=0.0, copy_paste=0.0, cfg=None, v5loader=False, tracker=botsort.yaml, save_dir=runs\\detect\\train\n",
      "Overriding model.yaml nc=80 with nc=1\n",
      "\n",
      "                   from  n    params  module                                       arguments                     \n",
      "  0                  -1  1      1856  ultralytics.nn.modules.conv.Conv             [3, 64, 3, 2]                 \n",
      "  1                  -1  1     73984  ultralytics.nn.modules.conv.Conv             [64, 128, 3, 2]               \n",
      "  2                  -1  3    279808  ultralytics.nn.modules.block.C2f             [128, 128, 3, True]           \n",
      "  3                  -1  1    295424  ultralytics.nn.modules.conv.Conv             [128, 256, 3, 2]              \n",
      "  4                  -1  6   2101248  ultralytics.nn.modules.block.C2f             [256, 256, 6, True]           \n",
      "  5                  -1  1   1180672  ultralytics.nn.modules.conv.Conv             [256, 512, 3, 2]              \n",
      "  6                  -1  6   8396800  ultralytics.nn.modules.block.C2f             [512, 512, 6, True]           \n",
      "  7                  -1  1   2360320  ultralytics.nn.modules.conv.Conv             [512, 512, 3, 2]              \n",
      "  8                  -1  3   4461568  ultralytics.nn.modules.block.C2f             [512, 512, 3, True]           \n",
      "  9                  -1  1    656896  ultralytics.nn.modules.block.SPPF            [512, 512, 5]                 \n",
      " 10                  -1  1         0  torch.nn.modules.upsampling.Upsample         [None, 2, 'nearest']          \n",
      " 11             [-1, 6]  1         0  ultralytics.nn.modules.conv.Concat           [1]                           \n",
      " 12                  -1  3   4723712  ultralytics.nn.modules.block.C2f             [1024, 512, 3]                \n",
      " 13                  -1  1         0  torch.nn.modules.upsampling.Upsample         [None, 2, 'nearest']          \n",
      " 14             [-1, 4]  1         0  ultralytics.nn.modules.conv.Concat           [1]                           \n",
      " 15                  -1  3   1247744  ultralytics.nn.modules.block.C2f             [768, 256, 3]                 \n",
      " 16                  -1  1    590336  ultralytics.nn.modules.conv.Conv             [256, 256, 3, 2]              \n",
      " 17            [-1, 12]  1         0  ultralytics.nn.modules.conv.Concat           [1]                           \n",
      " 18                  -1  3   4592640  ultralytics.nn.modules.block.C2f             [768, 512, 3]                 \n",
      " 19                  -1  1   2360320  ultralytics.nn.modules.conv.Conv             [512, 512, 3, 2]              \n",
      " 20             [-1, 9]  1         0  ultralytics.nn.modules.conv.Concat           [1]                           \n",
      " 21                  -1  3   4723712  ultralytics.nn.modules.block.C2f             [1024, 512, 3]                \n",
      " 22        [15, 18, 21]  1   5583571  ultralytics.nn.modules.head.Detect           [1, [256, 512, 512]]          \n",
      "Model summary: 365 layers, 43630611 parameters, 43630595 gradients\n",
      "\n",
      "Transferred 589/595 items from pretrained weights\n",
      "\u001b[34m\u001b[1mAMP: \u001b[0mrunning Automatic Mixed Precision (AMP) checks with YOLOv8n...\n",
      "\u001b[34m\u001b[1mAMP: \u001b[0mchecks passed \n",
      "\u001b[34m\u001b[1mtrain: \u001b[0mScanning C:\\Users\\FrankW\\Desktop\\test\\Code_Monkeys\\yolov8\\dataset\\yolov8_binary_wholeset\\labels\\train... 1816 images, 0 backgrounds, 0 corrupt: 100%|██████████| 1816/1816 [00:01<00:00, 1134.65it/s]\n",
      "\u001b[34m\u001b[1mtrain: \u001b[0mNew cache created: C:\\Users\\FrankW\\Desktop\\test\\Code_Monkeys\\yolov8\\dataset\\yolov8_binary_wholeset\\labels\\train.cache\n",
      "\u001b[34m\u001b[1malbumentations: \u001b[0mBlur(p=0.01, blur_limit=(3, 7)), MedianBlur(p=0.01, blur_limit=(3, 7)), ToGray(p=0.01), CLAHE(p=0.01, clip_limit=(1, 4.0), tile_grid_size=(8, 8))\n",
      "\u001b[34m\u001b[1mval: \u001b[0mScanning C:\\Users\\FrankW\\Desktop\\test\\Code_Monkeys\\yolov8\\dataset\\yolov8_binary_wholeset\\labels\\val... 180 images, 0 backgrounds, 0 corrupt: 100%|██████████| 180/180 [00:00<00:00, 1221.39it/s]\n",
      "\u001b[34m\u001b[1mval: \u001b[0mNew cache created: C:\\Users\\FrankW\\Desktop\\test\\Code_Monkeys\\yolov8\\dataset\\yolov8_binary_wholeset\\labels\\val.cache\n",
      "Plotting labels to runs\\detect\\train\\labels.jpg... \n",
      "\u001b[34m\u001b[1moptimizer:\u001b[0m Adam(lr=1e-05, momentum=0.937) with parameter groups 97 weight(decay=0.0), 104 weight(decay=0.0005), 103 bias(decay=0.0)\n",
      "Image sizes 640 train, 640 val\n",
      "Using 8 dataloader workers\n",
      "Logging results to \u001b[1mruns\\detect\\train\u001b[0m\n",
      "Starting training for 400 epochs...\n",
      "\n",
      "      Epoch    GPU_mem   box_loss   cls_loss   dfl_loss  Instances       Size\n",
      "      1/400      10.7G      1.618      1.746       1.82         15        640: 100%|██████████| 114/114 [01:04<00:00,  1.76it/s]\n",
      "                 Class     Images  Instances      Box(P          R      mAP50  mAP50-95): 100%|██████████| 6/6 [00:02<00:00,  2.31it/s]\n",
      "                   all        180        180      0.902      0.868      0.953      0.543\n",
      "\n",
      "      Epoch    GPU_mem   box_loss   cls_loss   dfl_loss  Instances       Size\n",
      "      2/400      11.1G      1.359      1.046      1.564         18        640: 100%|██████████| 114/114 [01:04<00:00,  1.76it/s]\n",
      "                 Class     Images  Instances      Box(P          R      mAP50  mAP50-95): 100%|██████████| 6/6 [00:02<00:00,  2.29it/s]\n",
      "                   all        180        180      0.924      0.911      0.964      0.633\n",
      "\n",
      "      Epoch    GPU_mem   box_loss   cls_loss   dfl_loss  Instances       Size\n",
      "      3/400        11G      1.276     0.9276      1.509         15        640: 100%|██████████| 114/114 [01:06<00:00,  1.72it/s]\n",
      "                 Class     Images  Instances      Box(P          R      mAP50  mAP50-95): 100%|██████████| 6/6 [00:02<00:00,  2.24it/s]\n",
      "                   all        180        180      0.911      0.928       0.97      0.613\n",
      "\n",
      "      Epoch    GPU_mem   box_loss   cls_loss   dfl_loss  Instances       Size\n",
      "      4/400      11.1G      1.239      0.881      1.488         11        640: 100%|██████████| 114/114 [01:08<00:00,  1.67it/s]\n",
      "                 Class     Images  Instances      Box(P          R      mAP50  mAP50-95): 100%|██████████| 6/6 [00:02<00:00,  2.19it/s]\n",
      "                   all        180        180      0.954      0.933       0.98      0.654\n",
      "\n",
      "      Epoch    GPU_mem   box_loss   cls_loss   dfl_loss  Instances       Size\n",
      "      5/400      11.1G      1.216     0.8273      1.459         16        640: 100%|██████████| 114/114 [01:08<00:00,  1.66it/s]\n",
      "                 Class     Images  Instances      Box(P          R      mAP50  mAP50-95): 100%|██████████| 6/6 [00:02<00:00,  2.06it/s]\n",
      "                   all        180        180      0.955       0.94      0.982       0.65\n",
      "\n",
      "      Epoch    GPU_mem   box_loss   cls_loss   dfl_loss  Instances       Size\n",
      "      6/400      11.1G      1.186     0.7899      1.436         19        640: 100%|██████████| 114/114 [01:09<00:00,  1.64it/s]\n",
      "                 Class     Images  Instances      Box(P          R      mAP50  mAP50-95): 100%|██████████| 6/6 [00:02<00:00,  2.11it/s]\n",
      "                   all        180        180      0.917      0.967      0.983      0.652\n",
      "\n",
      "      Epoch    GPU_mem   box_loss   cls_loss   dfl_loss  Instances       Size\n",
      "      7/400      11.1G      1.176     0.7762      1.422         24        640: 100%|██████████| 114/114 [01:09<00:00,  1.64it/s]\n",
      "                 Class     Images  Instances      Box(P          R      mAP50  mAP50-95): 100%|██████████| 6/6 [00:02<00:00,  2.26it/s]\n",
      "                   all        180        180      0.945      0.952      0.981       0.65\n",
      "\n",
      "      Epoch    GPU_mem   box_loss   cls_loss   dfl_loss  Instances       Size\n",
      "      8/400      11.1G      1.163      0.771      1.418         12        640: 100%|██████████| 114/114 [01:10<00:00,  1.61it/s]\n",
      "                 Class     Images  Instances      Box(P          R      mAP50  mAP50-95): 100%|██████████| 6/6 [00:03<00:00,  1.99it/s]\n",
      "                   all        180        180      0.939      0.939      0.976      0.653\n",
      "\n",
      "      Epoch    GPU_mem   box_loss   cls_loss   dfl_loss  Instances       Size\n",
      "      9/400      11.1G      1.154     0.7559      1.412         15        640: 100%|██████████| 114/114 [01:12<00:00,  1.58it/s]\n",
      "                 Class     Images  Instances      Box(P          R      mAP50  mAP50-95): 100%|██████████| 6/6 [00:02<00:00,  2.03it/s]\n",
      "                   all        180        180       0.97      0.967      0.987      0.658\n",
      "\n",
      "      Epoch    GPU_mem   box_loss   cls_loss   dfl_loss  Instances       Size\n",
      "     10/400      11.1G      1.141     0.7142      1.392         13        640: 100%|██████████| 114/114 [01:10<00:00,  1.61it/s]\n",
      "                 Class     Images  Instances      Box(P          R      mAP50  mAP50-95): 100%|██████████| 6/6 [00:02<00:00,  2.05it/s]\n",
      "                   all        180        180      0.966      0.944      0.986      0.671\n",
      "\n",
      "      Epoch    GPU_mem   box_loss   cls_loss   dfl_loss  Instances       Size\n",
      "     11/400      11.1G      1.135     0.7148      1.387         21        640: 100%|██████████| 114/114 [01:10<00:00,  1.61it/s]\n",
      "                 Class     Images  Instances      Box(P          R      mAP50  mAP50-95): 100%|██████████| 6/6 [00:02<00:00,  2.00it/s]\n",
      "                   all        180        180      0.978      0.977      0.988      0.661\n",
      "\n",
      "      Epoch    GPU_mem   box_loss   cls_loss   dfl_loss  Instances       Size\n",
      "     12/400      11.1G      1.119     0.6954      1.387         15        640: 100%|██████████| 114/114 [01:14<00:00,  1.54it/s]\n",
      "                 Class     Images  Instances      Box(P          R      mAP50  mAP50-95): 100%|██████████| 6/6 [00:02<00:00,  2.01it/s]\n",
      "                   all        180        180      0.966      0.953      0.987      0.671\n",
      "\n",
      "      Epoch    GPU_mem   box_loss   cls_loss   dfl_loss  Instances       Size\n",
      "     13/400      11.1G      1.115     0.6852      1.377         17        640: 100%|██████████| 114/114 [01:11<00:00,  1.59it/s]\n",
      "                 Class     Images  Instances      Box(P          R      mAP50  mAP50-95): 100%|██████████| 6/6 [00:02<00:00,  2.15it/s]\n",
      "                   all        180        180      0.972       0.96      0.984      0.652\n",
      "\n",
      "      Epoch    GPU_mem   box_loss   cls_loss   dfl_loss  Instances       Size\n",
      "     14/400      11.1G      1.087     0.6762      1.368         20        640: 100%|██████████| 114/114 [01:12<00:00,  1.58it/s]\n",
      "                 Class     Images  Instances      Box(P          R      mAP50  mAP50-95): 100%|██████████| 6/6 [00:02<00:00,  2.16it/s]\n",
      "                   all        180        180      0.939      0.972      0.987      0.677\n",
      "\n",
      "      Epoch    GPU_mem   box_loss   cls_loss   dfl_loss  Instances       Size\n",
      "     15/400      11.1G      1.078     0.6364      1.351         14        640: 100%|██████████| 114/114 [01:13<00:00,  1.56it/s]\n",
      "                 Class     Images  Instances      Box(P          R      mAP50  mAP50-95): 100%|██████████| 6/6 [00:02<00:00,  2.07it/s]\n",
      "                   all        180        180      0.966      0.967      0.987      0.665\n",
      "\n",
      "      Epoch    GPU_mem   box_loss   cls_loss   dfl_loss  Instances       Size\n",
      "     16/400      11.1G      1.081     0.6547      1.353         13        640: 100%|██████████| 114/114 [01:11<00:00,  1.59it/s]\n",
      "                 Class     Images  Instances      Box(P          R      mAP50  mAP50-95): 100%|██████████| 6/6 [00:03<00:00,  1.98it/s]\n",
      "                   all        180        180      0.931      0.956      0.985      0.673\n",
      "\n",
      "      Epoch    GPU_mem   box_loss   cls_loss   dfl_loss  Instances       Size\n",
      "     17/400      11.1G      1.077     0.6589      1.334         18        640: 100%|██████████| 114/114 [01:15<00:00,  1.51it/s]\n",
      "                 Class     Images  Instances      Box(P          R      mAP50  mAP50-95): 100%|██████████| 6/6 [00:03<00:00,  1.94it/s]\n",
      "                   all        180        180      0.977      0.938      0.985      0.661\n",
      "\n",
      "      Epoch    GPU_mem   box_loss   cls_loss   dfl_loss  Instances       Size\n",
      "     18/400      11.1G      1.055     0.6247      1.337         16        640: 100%|██████████| 114/114 [01:12<00:00,  1.57it/s]\n",
      "                 Class     Images  Instances      Box(P          R      mAP50  mAP50-95): 100%|██████████| 6/6 [00:03<00:00,  1.99it/s]\n",
      "                   all        180        180       0.97       0.95      0.987      0.658\n",
      "\n",
      "      Epoch    GPU_mem   box_loss   cls_loss   dfl_loss  Instances       Size\n",
      "     19/400      11.1G      1.049     0.6221       1.34         15        640: 100%|██████████| 114/114 [01:14<00:00,  1.53it/s]\n",
      "                 Class     Images  Instances      Box(P          R      mAP50  mAP50-95): 100%|██████████| 6/6 [00:02<00:00,  2.13it/s]\n",
      "                   all        180        180      0.992      0.956      0.991      0.672\n",
      "\n",
      "      Epoch    GPU_mem   box_loss   cls_loss   dfl_loss  Instances       Size\n",
      "     20/400      11.1G      1.013       0.61      1.315         17        640: 100%|██████████| 114/114 [01:12<00:00,  1.56it/s]\n",
      "                 Class     Images  Instances      Box(P          R      mAP50  mAP50-95): 100%|██████████| 6/6 [00:02<00:00,  2.10it/s]\n",
      "                   all        180        180       0.97      0.972      0.983      0.668\n",
      "\n",
      "      Epoch    GPU_mem   box_loss   cls_loss   dfl_loss  Instances       Size\n",
      "     21/400      11.1G      1.013     0.5985      1.307         15        640: 100%|██████████| 114/114 [01:13<00:00,  1.54it/s]\n",
      "                 Class     Images  Instances      Box(P          R      mAP50  mAP50-95): 100%|██████████| 6/6 [00:03<00:00,  1.93it/s]\n",
      "                   all        180        180      0.951      0.979      0.991      0.662\n",
      "\n",
      "      Epoch    GPU_mem   box_loss   cls_loss   dfl_loss  Instances       Size\n",
      "     22/400      11.1G      1.012     0.6074      1.307         16        640: 100%|██████████| 114/114 [01:14<00:00,  1.54it/s]\n",
      "                 Class     Images  Instances      Box(P          R      mAP50  mAP50-95): 100%|██████████| 6/6 [00:02<00:00,  2.13it/s]\n",
      "                   all        180        180      0.958      0.967      0.988       0.67\n",
      "\n",
      "      Epoch    GPU_mem   box_loss   cls_loss   dfl_loss  Instances       Size\n",
      "     23/400      11.1G      1.016     0.6061      1.314         16        640: 100%|██████████| 114/114 [01:14<00:00,  1.53it/s]\n",
      "                 Class     Images  Instances      Box(P          R      mAP50  mAP50-95): 100%|██████████| 6/6 [00:02<00:00,  2.13it/s]\n",
      "                   all        180        180      0.949      0.967       0.99      0.657\n",
      "\n",
      "      Epoch    GPU_mem   box_loss   cls_loss   dfl_loss  Instances       Size\n",
      "     24/400      11.1G      1.009     0.5886      1.328         12        640: 100%|██████████| 114/114 [01:15<00:00,  1.52it/s]\n",
      "                 Class     Images  Instances      Box(P          R      mAP50  mAP50-95): 100%|██████████| 6/6 [00:02<00:00,  2.17it/s]\n",
      "                   all        180        180      0.957      0.972      0.988      0.682\n",
      "\n",
      "      Epoch    GPU_mem   box_loss   cls_loss   dfl_loss  Instances       Size\n",
      "     25/400      11.1G     0.9856     0.5746      1.312         18        640: 100%|██████████| 114/114 [01:14<00:00,  1.53it/s]\n",
      "                 Class     Images  Instances      Box(P          R      mAP50  mAP50-95): 100%|██████████| 6/6 [00:02<00:00,  2.18it/s]\n",
      "                   all        180        180      0.969      0.961      0.985      0.656\n",
      "\n",
      "      Epoch    GPU_mem   box_loss   cls_loss   dfl_loss  Instances       Size\n",
      "     26/400      11.1G     0.9888     0.5844      1.308         15        640: 100%|██████████| 114/114 [01:13<00:00,  1.56it/s]\n",
      "                 Class     Images  Instances      Box(P          R      mAP50  mAP50-95): 100%|██████████| 6/6 [00:02<00:00,  2.14it/s]\n",
      "                   all        180        180      0.971       0.95      0.984      0.662\n",
      "\n",
      "      Epoch    GPU_mem   box_loss   cls_loss   dfl_loss  Instances       Size\n",
      "     27/400      11.1G      0.958     0.5578      1.284         16        640: 100%|██████████| 114/114 [01:15<00:00,  1.51it/s]\n",
      "                 Class     Images  Instances      Box(P          R      mAP50  mAP50-95): 100%|██████████| 6/6 [00:02<00:00,  2.20it/s]\n",
      "                   all        180        180      0.946      0.956      0.975      0.646\n",
      "\n",
      "      Epoch    GPU_mem   box_loss   cls_loss   dfl_loss  Instances       Size\n",
      "     28/400      11.1G     0.9347     0.5527      1.263         12        640: 100%|██████████| 114/114 [01:13<00:00,  1.54it/s]\n",
      "                 Class     Images  Instances      Box(P          R      mAP50  mAP50-95): 100%|██████████| 6/6 [00:02<00:00,  2.15it/s]\n",
      "                   all        180        180       0.95      0.961      0.982      0.663\n",
      "\n",
      "      Epoch    GPU_mem   box_loss   cls_loss   dfl_loss  Instances       Size\n",
      "     29/400      11.1G     0.9589     0.5546      1.274         17        640: 100%|██████████| 114/114 [01:13<00:00,  1.55it/s]\n",
      "                 Class     Images  Instances      Box(P          R      mAP50  mAP50-95): 100%|██████████| 6/6 [00:02<00:00,  2.19it/s]\n",
      "                   all        180        180      0.972      0.967      0.989      0.651\n",
      "\n",
      "      Epoch    GPU_mem   box_loss   cls_loss   dfl_loss  Instances       Size\n",
      "     30/400      11.1G     0.9406     0.5596      1.258         15        640: 100%|██████████| 114/114 [01:14<00:00,  1.53it/s]\n",
      "                 Class     Images  Instances      Box(P          R      mAP50  mAP50-95): 100%|██████████| 6/6 [00:03<00:00,  1.95it/s]\n",
      "                   all        180        180       0.96      0.967      0.987      0.653\n",
      "\n",
      "      Epoch    GPU_mem   box_loss   cls_loss   dfl_loss  Instances       Size\n",
      "     31/400      11.1G     0.9382     0.5404      1.257         13        640: 100%|██████████| 114/114 [01:14<00:00,  1.54it/s]\n",
      "                 Class     Images  Instances      Box(P          R      mAP50  mAP50-95): 100%|██████████| 6/6 [00:02<00:00,  2.05it/s]\n",
      "                   all        180        180      0.972      0.952      0.987      0.642\n",
      "\n",
      "      Epoch    GPU_mem   box_loss   cls_loss   dfl_loss  Instances       Size\n",
      "     32/400      11.1G     0.9312     0.5334      1.254         14        640: 100%|██████████| 114/114 [01:14<00:00,  1.54it/s]\n",
      "                 Class     Images  Instances      Box(P          R      mAP50  mAP50-95): 100%|██████████| 6/6 [00:02<00:00,  2.05it/s]\n",
      "                   all        180        180      0.961       0.96      0.986       0.66\n",
      "\n",
      "      Epoch    GPU_mem   box_loss   cls_loss   dfl_loss  Instances       Size\n",
      "     33/400      11.1G     0.9145     0.5279      1.247         17        640: 100%|██████████| 114/114 [01:15<00:00,  1.50it/s]\n",
      "                 Class     Images  Instances      Box(P          R      mAP50  mAP50-95): 100%|██████████| 6/6 [00:02<00:00,  2.09it/s]\n",
      "                   all        180        180      0.976      0.978       0.99      0.657\n",
      "\n",
      "      Epoch    GPU_mem   box_loss   cls_loss   dfl_loss  Instances       Size\n",
      "     34/400      11.1G     0.9293     0.5162      1.243         10        640: 100%|██████████| 114/114 [01:17<00:00,  1.48it/s]\n",
      "                 Class     Images  Instances      Box(P          R      mAP50  mAP50-95): 100%|██████████| 6/6 [00:03<00:00,  1.92it/s]\n",
      "                   all        180        180      0.983      0.938      0.988       0.65\n",
      "\n",
      "      Epoch    GPU_mem   box_loss   cls_loss   dfl_loss  Instances       Size\n",
      "     35/400      11.1G     0.9106     0.5079      1.232         17        640: 100%|██████████| 114/114 [01:14<00:00,  1.53it/s]\n",
      "                 Class     Images  Instances      Box(P          R      mAP50  mAP50-95): 100%|██████████| 6/6 [00:02<00:00,  2.08it/s]\n",
      "                   all        180        180      0.956      0.944      0.984      0.657\n",
      "\n",
      "      Epoch    GPU_mem   box_loss   cls_loss   dfl_loss  Instances       Size\n",
      "     36/400      11.1G     0.9119       0.51      1.234         16        640: 100%|██████████| 114/114 [01:15<00:00,  1.51it/s]\n",
      "                 Class     Images  Instances      Box(P          R      mAP50  mAP50-95): 100%|██████████| 6/6 [00:02<00:00,  2.15it/s]\n",
      "                   all        180        180      0.976       0.95      0.988      0.669\n",
      "\n",
      "      Epoch    GPU_mem   box_loss   cls_loss   dfl_loss  Instances       Size\n",
      "     37/400      11.1G     0.8997     0.5063      1.224         25        640: 100%|██████████| 114/114 [01:16<00:00,  1.48it/s]\n",
      "                 Class     Images  Instances      Box(P          R      mAP50  mAP50-95): 100%|██████████| 6/6 [00:02<00:00,  2.10it/s]\n",
      "                   all        180        180      0.985      0.961      0.992      0.663\n",
      "\n",
      "      Epoch    GPU_mem   box_loss   cls_loss   dfl_loss  Instances       Size\n",
      "     38/400      11.1G     0.8863     0.5064      1.208         16        640: 100%|██████████| 114/114 [01:12<00:00,  1.57it/s]\n",
      "                 Class     Images  Instances      Box(P          R      mAP50  mAP50-95): 100%|██████████| 6/6 [00:03<00:00,  1.96it/s]\n",
      "                   all        180        180      0.983      0.965       0.99      0.658\n",
      "\n",
      "      Epoch    GPU_mem   box_loss   cls_loss   dfl_loss  Instances       Size\n",
      "     39/400      11.1G     0.8866     0.5107      1.221         21        640: 100%|██████████| 114/114 [01:16<00:00,  1.49it/s]\n",
      "                 Class     Images  Instances      Box(P          R      mAP50  mAP50-95): 100%|██████████| 6/6 [00:02<00:00,  2.11it/s]\n",
      "                   all        180        180      0.978      0.977      0.992      0.655\n",
      "\n",
      "      Epoch    GPU_mem   box_loss   cls_loss   dfl_loss  Instances       Size\n",
      "     40/400      11.1G     0.8697     0.5089      1.213         11        640: 100%|██████████| 114/114 [01:13<00:00,  1.54it/s]\n",
      "                 Class     Images  Instances      Box(P          R      mAP50  mAP50-95): 100%|██████████| 6/6 [00:02<00:00,  2.17it/s]\n",
      "                   all        180        180      0.977      0.956      0.991      0.656\n",
      "\n",
      "      Epoch    GPU_mem   box_loss   cls_loss   dfl_loss  Instances       Size\n",
      "     41/400      11.1G     0.8722     0.5031      1.205         25        640: 100%|██████████| 114/114 [01:12<00:00,  1.57it/s]\n",
      "                 Class     Images  Instances      Box(P          R      mAP50  mAP50-95): 100%|██████████| 6/6 [00:02<00:00,  2.07it/s]\n",
      "                   all        180        180       0.98      0.967       0.99      0.661\n",
      "\n",
      "      Epoch    GPU_mem   box_loss   cls_loss   dfl_loss  Instances       Size\n",
      "     42/400      11.1G     0.8638     0.4874      1.196         22        640: 100%|██████████| 114/114 [01:14<00:00,  1.54it/s]\n",
      "                 Class     Images  Instances      Box(P          R      mAP50  mAP50-95): 100%|██████████| 6/6 [00:02<00:00,  2.02it/s]\n",
      "                   all        180        180      0.964      0.967       0.99      0.655\n",
      "\n",
      "      Epoch    GPU_mem   box_loss   cls_loss   dfl_loss  Instances       Size\n",
      "     43/400      11.1G     0.8359     0.4702      1.183         11        640: 100%|██████████| 114/114 [01:15<00:00,  1.52it/s]\n",
      "                 Class     Images  Instances      Box(P          R      mAP50  mAP50-95): 100%|██████████| 6/6 [00:02<00:00,  2.24it/s]\n",
      "                   all        180        180      0.967      0.982      0.991      0.647\n",
      "\n",
      "      Epoch    GPU_mem   box_loss   cls_loss   dfl_loss  Instances       Size\n",
      "     44/400      11.1G     0.8528     0.4776      1.186         17        640: 100%|██████████| 114/114 [01:14<00:00,  1.53it/s]\n",
      "                 Class     Images  Instances      Box(P          R      mAP50  mAP50-95): 100%|██████████| 6/6 [00:02<00:00,  2.09it/s]\n",
      "                   all        180        180      0.965      0.983      0.993      0.664\n",
      "\n",
      "      Epoch    GPU_mem   box_loss   cls_loss   dfl_loss  Instances       Size\n",
      "     45/400      11.1G     0.8485     0.4828      1.177         13        640: 100%|██████████| 114/114 [01:14<00:00,  1.52it/s]\n",
      "                 Class     Images  Instances      Box(P          R      mAP50  mAP50-95): 100%|██████████| 6/6 [00:03<00:00,  1.90it/s]\n",
      "                   all        180        180      0.956      0.971       0.99      0.677\n",
      "\n",
      "      Epoch    GPU_mem   box_loss   cls_loss   dfl_loss  Instances       Size\n",
      "     46/400      11.1G     0.8227     0.4612      1.153         23        640: 100%|██████████| 114/114 [01:17<00:00,  1.47it/s]\n",
      "                 Class     Images  Instances      Box(P          R      mAP50  mAP50-95): 100%|██████████| 6/6 [00:03<00:00,  1.90it/s]\n",
      "                   all        180        180      0.988       0.95       0.99      0.674\n",
      "\n",
      "      Epoch    GPU_mem   box_loss   cls_loss   dfl_loss  Instances       Size\n",
      "     47/400      11.1G     0.8422     0.4671      1.163         13        640: 100%|██████████| 114/114 [01:17<00:00,  1.48it/s]\n",
      "                 Class     Images  Instances      Box(P          R      mAP50  mAP50-95): 100%|██████████| 6/6 [00:02<00:00,  2.13it/s]\n",
      "                   all        180        180      0.966      0.967      0.991      0.667\n",
      "\n",
      "      Epoch    GPU_mem   box_loss   cls_loss   dfl_loss  Instances       Size\n",
      "     48/400      11.1G     0.8273     0.4619      1.168         15        640: 100%|██████████| 114/114 [01:14<00:00,  1.52it/s]\n",
      "                 Class     Images  Instances      Box(P          R      mAP50  mAP50-95): 100%|██████████| 6/6 [00:02<00:00,  2.01it/s]\n",
      "                   all        180        180      0.955      0.967      0.991      0.662\n",
      "\n",
      "      Epoch    GPU_mem   box_loss   cls_loss   dfl_loss  Instances       Size\n",
      "     49/400      11.1G     0.8272     0.4682      1.162         16        640: 100%|██████████| 114/114 [01:15<00:00,  1.51it/s]\n",
      "                 Class     Images  Instances      Box(P          R      mAP50  mAP50-95): 100%|██████████| 6/6 [00:02<00:00,  2.25it/s]\n",
      "                   all        180        180      0.962      0.978      0.992      0.654\n",
      "\n",
      "      Epoch    GPU_mem   box_loss   cls_loss   dfl_loss  Instances       Size\n",
      "     50/400      11.1G     0.8182     0.4653      1.147         17        640: 100%|██████████| 114/114 [01:14<00:00,  1.53it/s]\n",
      "                 Class     Images  Instances      Box(P          R      mAP50  mAP50-95): 100%|██████████| 6/6 [00:03<00:00,  1.92it/s]\n",
      "                   all        180        180      0.975      0.961       0.99      0.657\n",
      "\n",
      "      Epoch    GPU_mem   box_loss   cls_loss   dfl_loss  Instances       Size\n",
      "     51/400      11.1G     0.8191     0.4587      1.153         26        640: 100%|██████████| 114/114 [01:15<00:00,  1.50it/s]\n",
      "                 Class     Images  Instances      Box(P          R      mAP50  mAP50-95): 100%|██████████| 6/6 [00:03<00:00,  1.92it/s]\n",
      "                   all        180        180      0.975       0.95      0.988      0.652\n",
      "\n",
      "      Epoch    GPU_mem   box_loss   cls_loss   dfl_loss  Instances       Size\n",
      "     52/400      11.1G     0.7974     0.4554      1.141         16        640: 100%|██████████| 114/114 [01:19<00:00,  1.44it/s]\n",
      "                 Class     Images  Instances      Box(P          R      mAP50  mAP50-95): 100%|██████████| 6/6 [00:03<00:00,  1.98it/s]\n",
      "                   all        180        180      0.966      0.949      0.987      0.658\n",
      "\n",
      "      Epoch    GPU_mem   box_loss   cls_loss   dfl_loss  Instances       Size\n",
      "     53/400      11.1G     0.8112     0.4566      1.151         20        640: 100%|██████████| 114/114 [01:16<00:00,  1.49it/s]\n",
      "                 Class     Images  Instances      Box(P          R      mAP50  mAP50-95): 100%|██████████| 6/6 [00:02<00:00,  2.20it/s]\n",
      "                   all        180        180      0.966      0.936      0.982      0.652\n",
      "\n",
      "      Epoch    GPU_mem   box_loss   cls_loss   dfl_loss  Instances       Size\n",
      "     54/400      11.1G     0.7895     0.4484      1.139         21        640: 100%|██████████| 114/114 [01:17<00:00,  1.47it/s]\n",
      "                 Class     Images  Instances      Box(P          R      mAP50  mAP50-95): 100%|██████████| 6/6 [00:02<00:00,  2.10it/s]\n",
      "                   all        180        180      0.961       0.96      0.989      0.659\n",
      "\n",
      "      Epoch    GPU_mem   box_loss   cls_loss   dfl_loss  Instances       Size\n",
      "     55/400      11.1G     0.7925     0.4501       1.14         16        640: 100%|██████████| 114/114 [01:17<00:00,  1.47it/s]\n",
      "                 Class     Images  Instances      Box(P          R      mAP50  mAP50-95): 100%|██████████| 6/6 [00:02<00:00,  2.06it/s]\n",
      "                   all        180        180       0.96      0.956      0.974      0.655\n",
      "\n",
      "      Epoch    GPU_mem   box_loss   cls_loss   dfl_loss  Instances       Size\n",
      "     56/400      11.1G     0.7878     0.4472      1.143         21        640: 100%|██████████| 114/114 [01:13<00:00,  1.54it/s]\n",
      "                 Class     Images  Instances      Box(P          R      mAP50  mAP50-95): 100%|██████████| 6/6 [00:03<00:00,  1.92it/s]\n",
      "                   all        180        180      0.966      0.955      0.984      0.649\n",
      "\n",
      "      Epoch    GPU_mem   box_loss   cls_loss   dfl_loss  Instances       Size\n",
      "     57/400      11.1G     0.7784     0.4589      1.142         11        640: 100%|██████████| 114/114 [01:15<00:00,  1.51it/s]\n",
      "                 Class     Images  Instances      Box(P          R      mAP50  mAP50-95): 100%|██████████| 6/6 [00:02<00:00,  2.19it/s]\n",
      "                   all        180        180      0.936      0.956      0.983      0.656\n",
      "\n",
      "      Epoch    GPU_mem   box_loss   cls_loss   dfl_loss  Instances       Size\n",
      "     58/400      11.1G     0.7602     0.4331      1.126         14        640: 100%|██████████| 114/114 [01:13<00:00,  1.56it/s]\n",
      "                 Class     Images  Instances      Box(P          R      mAP50  mAP50-95): 100%|██████████| 6/6 [00:02<00:00,  2.11it/s]\n",
      "                   all        180        180      0.956      0.972       0.99      0.648\n",
      "\n",
      "      Epoch    GPU_mem   box_loss   cls_loss   dfl_loss  Instances       Size\n",
      "     59/400      11.1G     0.7747      0.439       1.14         18        640: 100%|██████████| 114/114 [01:14<00:00,  1.54it/s]\n",
      "                 Class     Images  Instances      Box(P          R      mAP50  mAP50-95): 100%|██████████| 6/6 [00:02<00:00,  2.02it/s]\n",
      "                   all        180        180      0.971       0.95      0.985      0.653\n",
      "\n",
      "      Epoch    GPU_mem   box_loss   cls_loss   dfl_loss  Instances       Size\n",
      "     60/400      11.1G     0.7708     0.4362      1.142         18        640: 100%|██████████| 114/114 [01:12<00:00,  1.57it/s]\n",
      "                 Class     Images  Instances      Box(P          R      mAP50  mAP50-95): 100%|██████████| 6/6 [00:02<00:00,  2.10it/s]\n",
      "                   all        180        180      0.966       0.95      0.981      0.655\n",
      "\n",
      "      Epoch    GPU_mem   box_loss   cls_loss   dfl_loss  Instances       Size\n",
      "     61/400      11.1G     0.7644     0.4456      1.149         21        640: 100%|██████████| 114/114 [01:13<00:00,  1.55it/s]\n",
      "                 Class     Images  Instances      Box(P          R      mAP50  mAP50-95): 100%|██████████| 6/6 [00:03<00:00,  1.91it/s]\n",
      "                   all        180        180      0.944      0.967      0.978      0.648\n",
      "\n",
      "      Epoch    GPU_mem   box_loss   cls_loss   dfl_loss  Instances       Size\n",
      "     62/400      11.1G      0.765     0.4439      1.146         17        640: 100%|██████████| 114/114 [01:18<00:00,  1.45it/s]\n",
      "                 Class     Images  Instances      Box(P          R      mAP50  mAP50-95): 100%|██████████| 6/6 [00:02<00:00,  2.07it/s]\n",
      "                   all        180        180      0.956      0.966      0.989      0.669\n",
      "\n",
      "      Epoch    GPU_mem   box_loss   cls_loss   dfl_loss  Instances       Size\n",
      "     63/400      11.1G     0.7661     0.4392      1.132         20        640: 100%|██████████| 114/114 [01:14<00:00,  1.53it/s]\n",
      "                 Class     Images  Instances      Box(P          R      mAP50  mAP50-95): 100%|██████████| 6/6 [00:03<00:00,  1.85it/s]\n",
      "                   all        180        180      0.977      0.942      0.988      0.667\n",
      "\n",
      "      Epoch    GPU_mem   box_loss   cls_loss   dfl_loss  Instances       Size\n",
      "     64/400      11.1G     0.7421     0.4252       1.12         19        640: 100%|██████████| 114/114 [01:15<00:00,  1.52it/s]\n",
      "                 Class     Images  Instances      Box(P          R      mAP50  mAP50-95): 100%|██████████| 6/6 [00:02<00:00,  2.02it/s]\n",
      "                   all        180        180      0.955      0.937      0.983      0.649\n",
      "\n",
      "      Epoch    GPU_mem   box_loss   cls_loss   dfl_loss  Instances       Size\n",
      "     65/400      11.1G     0.7428     0.4125      1.108         17        640: 100%|██████████| 114/114 [01:14<00:00,  1.52it/s]\n",
      "                 Class     Images  Instances      Box(P          R      mAP50  mAP50-95): 100%|██████████| 6/6 [00:02<00:00,  2.02it/s]\n",
      "                   all        180        180      0.977      0.954      0.989      0.668\n",
      "\n",
      "      Epoch    GPU_mem   box_loss   cls_loss   dfl_loss  Instances       Size\n",
      "     66/400      11.1G     0.7403     0.4293      1.112         15        640: 100%|██████████| 114/114 [01:14<00:00,  1.53it/s]\n",
      "                 Class     Images  Instances      Box(P          R      mAP50  mAP50-95): 100%|██████████| 6/6 [00:02<00:00,  2.14it/s]\n",
      "                   all        180        180      0.977      0.948      0.988      0.659\n",
      "\n",
      "      Epoch    GPU_mem   box_loss   cls_loss   dfl_loss  Instances       Size\n",
      "     67/400      11.1G       0.74     0.4245      1.109         18        640: 100%|██████████| 114/114 [01:13<00:00,  1.55it/s]\n",
      "                 Class     Images  Instances      Box(P          R      mAP50  mAP50-95): 100%|██████████| 6/6 [00:02<00:00,  2.20it/s]\n",
      "                   all        180        180      0.989       0.96      0.992      0.669\n",
      "\n",
      "      Epoch    GPU_mem   box_loss   cls_loss   dfl_loss  Instances       Size\n",
      "     68/400      11.1G     0.7153     0.4056      1.098         16        640: 100%|██████████| 114/114 [01:12<00:00,  1.58it/s]\n",
      "                 Class     Images  Instances      Box(P          R      mAP50  mAP50-95): 100%|██████████| 6/6 [00:02<00:00,  2.03it/s]\n",
      "                   all        180        180      0.961      0.969      0.988      0.657\n",
      "\n",
      "      Epoch    GPU_mem   box_loss   cls_loss   dfl_loss  Instances       Size\n",
      "     69/400      11.1G     0.7241     0.4141      1.102          9        640: 100%|██████████| 114/114 [01:13<00:00,  1.55it/s]\n",
      "                 Class     Images  Instances      Box(P          R      mAP50  mAP50-95): 100%|██████████| 6/6 [00:03<00:00,  1.96it/s]\n",
      "                   all        180        180      0.976       0.95       0.99      0.652\n",
      "\n",
      "      Epoch    GPU_mem   box_loss   cls_loss   dfl_loss  Instances       Size\n",
      "     70/400      11.1G      0.737     0.4221      1.115         17        640: 100%|██████████| 114/114 [01:12<00:00,  1.56it/s]\n",
      "                 Class     Images  Instances      Box(P          R      mAP50  mAP50-95): 100%|██████████| 6/6 [00:02<00:00,  2.09it/s]\n",
      "                   all        180        180      0.961      0.967      0.985       0.67\n",
      "\n",
      "      Epoch    GPU_mem   box_loss   cls_loss   dfl_loss  Instances       Size\n",
      "     71/400      11.1G      0.722     0.4102      1.095         19        640: 100%|██████████| 114/114 [01:12<00:00,  1.57it/s]\n",
      "                 Class     Images  Instances      Box(P          R      mAP50  mAP50-95): 100%|██████████| 6/6 [00:02<00:00,  2.10it/s]\n",
      "                   all        180        180       0.98      0.939      0.989      0.665\n",
      "\n",
      "      Epoch    GPU_mem   box_loss   cls_loss   dfl_loss  Instances       Size\n",
      "     72/400      11.1G     0.7273     0.4288      1.103         17        640: 100%|██████████| 114/114 [01:15<00:00,  1.52it/s]\n",
      "                 Class     Images  Instances      Box(P          R      mAP50  mAP50-95): 100%|██████████| 6/6 [00:02<00:00,  2.02it/s]\n",
      "                   all        180        180      0.941      0.977      0.989      0.662\n",
      "\n",
      "      Epoch    GPU_mem   box_loss   cls_loss   dfl_loss  Instances       Size\n",
      "     73/400      11.1G     0.7123     0.4047      1.087         12        640: 100%|██████████| 114/114 [01:13<00:00,  1.55it/s]\n",
      "                 Class     Images  Instances      Box(P          R      mAP50  mAP50-95): 100%|██████████| 6/6 [00:02<00:00,  2.17it/s]\n",
      "                   all        180        180       0.96      0.944      0.984      0.659\n",
      "\n",
      "      Epoch    GPU_mem   box_loss   cls_loss   dfl_loss  Instances       Size\n",
      "     74/400      11.1G      0.717     0.4051      1.089         18        640: 100%|██████████| 114/114 [01:14<00:00,  1.54it/s]\n",
      "                 Class     Images  Instances      Box(P          R      mAP50  mAP50-95): 100%|██████████| 6/6 [00:03<00:00,  1.83it/s]\n",
      "                   all        180        180      0.949       0.95       0.98      0.654\n",
      "Stopping training early as no improvement observed in last 50 epochs. Best results observed at epoch 24, best model saved as best.pt.\n",
      "To update EarlyStopping(patience=50) pass a new patience value, i.e. `patience=300` or use `patience=0` to disable EarlyStopping.\n",
      "\n",
      "74 epochs completed in 1.607 hours.\n",
      "Optimizer stripped from runs\\detect\\train\\weights\\last.pt, 87.6MB\n",
      "Optimizer stripped from runs\\detect\\train\\weights\\best.pt, 87.6MB\n",
      "\n",
      "Validating runs\\detect\\train\\weights\\best.pt...\n",
      "Ultralytics YOLOv8.0.114  Python-3.9.16 torch-2.0.1 CUDA:0 (NVIDIA GeForce RTX 3080 Ti Laptop GPU, 16384MiB)\n",
      "Model summary (fused): 268 layers, 43607379 parameters, 0 gradients\n",
      "                 Class     Images  Instances      Box(P          R      mAP50  mAP50-95): 100%|██████████| 6/6 [00:03<00:00,  1.91it/s]\n",
      "                   all        180        180      0.958      0.972      0.988      0.682\n",
      "Speed: 0.5ms preprocess, 10.5ms inference, 0.0ms loss, 0.9ms postprocess per image\n",
      "Results saved to \u001b[1mruns\\detect\\train\u001b[0m\n"
     ]
    }
   ],
   "source": [
    "# Load a model\n",
    "# model = YOLO('yolov8n.pt')  # load a pretrained model (recommended for training)\n",
    "# model = YOLO('yolov8s.pt')  # load a pretrained model (recommended for training)\n",
    "# model = YOLO('yolov8m.pt')  # load a pretrained model (recommended for training)\n",
    "model = YOLO('yolov8l.pt')  # load a pretrained model (recommended for training)\n",
    "# model = YOLO('yolov8x.pt')  # load a pretrained model (recommended for training)\n",
    "\n",
    "# model.train(data='./aiplus.yaml',   # aiplus.yaml is for binary classification\n",
    "model.train(data='./aiplus_bi.yaml',   # aiplus_mc.yaml is for multi-class\n",
    "            lr0=0.00001, \n",
    "            epochs=400,\n",
    "            # batch=32,\n",
    "            batch=16,  \n",
    "            imgsz=640,\n",
    "            optimizer='Adam', \n",
    "            task='detect')"
   ]
  },
  {
   "attachments": {},
   "cell_type": "markdown",
   "metadata": {},
   "source": [
    "# Validation"
   ]
  },
  {
   "attachments": {},
   "cell_type": "markdown",
   "metadata": {},
   "source": [
    "## Binary CLS "
   ]
  },
  {
   "attachments": {},
   "cell_type": "markdown",
   "metadata": {},
   "source": [
    "### YOLOV8n"
   ]
  },
  {
   "cell_type": "code",
   "execution_count": 2,
   "metadata": {},
   "outputs": [
    {
     "name": "stderr",
     "output_type": "stream",
     "text": [
      "Ultralytics YOLOv8.0.114  Python-3.9.16 torch-2.0.1 CUDA:0 (NVIDIA GeForce RTX 3080 Ti Laptop GPU, 16384MiB)\n",
      "Model summary (fused): 168 layers, 3005843 parameters, 0 gradients\n",
      "\u001b[34m\u001b[1mval: \u001b[0mScanning C:\\Users\\FrankW\\Desktop\\test\\Code_Monkeys\\yolov8\\dataset\\aiplus_yolov8\\aiplus\\labels\\val.cache... 180 images, 0 backgrounds, 0 corrupt: 100%|██████████| 180/180 [00:00<?, ?it/s]\n",
      "                 Class     Images  Instances      Box(P          R      mAP50  mAP50-95): 100%|██████████| 6/6 [00:01<00:00,  3.40it/s]\n",
      "                   all        180        180      0.966      0.956      0.976      0.653\n",
      "Speed: 0.8ms preprocess, 3.5ms inference, 0.0ms loss, 1.2ms postprocess per image\n",
      "Results saved to \u001b[1mruns\\detect\\val2\u001b[0m\n"
     ]
    }
   ],
   "source": [
    "val_model = YOLO('runs/detect/binary_cls/yolov8n/weights/best.pt')\n",
    "metrics = val_model.val(data='./aiplus.yaml', batch=32, imgsz=640)"
   ]
  },
  {
   "attachments": {},
   "cell_type": "markdown",
   "metadata": {},
   "source": [
    "### YOLOV8s"
   ]
  },
  {
   "cell_type": "code",
   "execution_count": 3,
   "metadata": {},
   "outputs": [
    {
     "name": "stderr",
     "output_type": "stream",
     "text": [
      "Ultralytics YOLOv8.0.114  Python-3.9.16 torch-2.0.1 CUDA:0 (NVIDIA GeForce RTX 3080 Ti Laptop GPU, 16384MiB)\n",
      "Model summary (fused): 168 layers, 11125971 parameters, 0 gradients\n",
      "\u001b[34m\u001b[1mval: \u001b[0mScanning C:\\Users\\FrankW\\Desktop\\test\\Code_Monkeys\\yolov8\\dataset\\aiplus_yolov8\\aiplus\\labels\\val.cache... 180 images, 0 backgrounds, 0 corrupt: 100%|██████████| 180/180 [00:00<?, ?it/s]\n",
      "                 Class     Images  Instances      Box(P          R      mAP50  mAP50-95): 100%|██████████| 6/6 [00:02<00:00,  2.51it/s]\n",
      "                   all        180        180      0.971      0.933      0.981      0.652\n",
      "Speed: 0.9ms preprocess, 5.9ms inference, 0.0ms loss, 1.2ms postprocess per image\n",
      "Results saved to \u001b[1mruns\\detect\\val2\u001b[0m\n"
     ]
    }
   ],
   "source": [
    "val_model = YOLO('runs/detect/binary_cls/yolov8s/weights/best.pt')\n",
    "metrics = val_model.val(data='./aiplus.yaml', batch=32, imgsz=640)"
   ]
  },
  {
   "attachments": {},
   "cell_type": "markdown",
   "metadata": {},
   "source": [
    "### YOLOV8m"
   ]
  },
  {
   "cell_type": "code",
   "execution_count": 4,
   "metadata": {},
   "outputs": [
    {
     "name": "stderr",
     "output_type": "stream",
     "text": [
      "Ultralytics YOLOv8.0.114  Python-3.9.16 torch-2.0.1 CUDA:0 (NVIDIA GeForce RTX 3080 Ti Laptop GPU, 16384MiB)\n",
      "Model summary (fused): 218 layers, 25840339 parameters, 0 gradients\n",
      "\u001b[34m\u001b[1mval: \u001b[0mScanning C:\\Users\\FrankW\\Desktop\\test\\Code_Monkeys\\yolov8\\dataset\\aiplus_yolov8\\aiplus\\labels\\val.cache... 180 images, 0 backgrounds, 0 corrupt: 100%|██████████| 180/180 [00:00<?, ?it/s]\n",
      "                 Class     Images  Instances      Box(P          R      mAP50  mAP50-95): 100%|██████████| 6/6 [00:03<00:00,  1.83it/s]\n",
      "                   all        180        180      0.886      0.951      0.974      0.626\n",
      "Speed: 0.9ms preprocess, 11.2ms inference, 0.0ms loss, 1.0ms postprocess per image\n",
      "Results saved to \u001b[1mruns\\detect\\val3\u001b[0m\n"
     ]
    }
   ],
   "source": [
    "val_model = YOLO('runs/detect/binary_cls/yolov8m/weights/best.pt')\n",
    "metrics = val_model.val(data='./aiplus.yaml', batch=32, imgsz=640)"
   ]
  },
  {
   "attachments": {},
   "cell_type": "markdown",
   "metadata": {},
   "source": [
    "### YOLOV8l"
   ]
  },
  {
   "cell_type": "code",
   "execution_count": 4,
   "metadata": {},
   "outputs": [
    {
     "name": "stderr",
     "output_type": "stream",
     "text": [
      "Ultralytics YOLOv8.0.114  Python-3.9.16 torch-2.0.1 CUDA:0 (NVIDIA GeForce RTX 3080 Ti Laptop GPU, 16384MiB)\n",
      "Model summary (fused): 268 layers, 43607379 parameters, 0 gradients\n",
      "\u001b[34m\u001b[1mval: \u001b[0mScanning C:\\Users\\FrankW\\Desktop\\test\\Code_Monkeys\\yolov8\\dataset\\yolov8_binary_wholeset\\labels\\val.cache... 180 images, 0 backgrounds, 0 corrupt: 100%|██████████| 180/180 [00:00<?, ?it/s]\n",
      "                 Class     Images  Instances      Box(P          R      mAP50  mAP50-95): 100%|██████████| 12/12 [00:04<00:00,  2.76it/s]\n",
      "                   all        180        180      0.954      0.972      0.988      0.681\n",
      "Speed: 0.4ms preprocess, 17.1ms inference, 0.0ms loss, 1.4ms postprocess per image\n",
      "Results saved to \u001b[1mruns\\detect\\val3\u001b[0m\n"
     ]
    }
   ],
   "source": [
    "val_model = YOLO('runs/detect/binary_cls/yolov8l_0.00001/weights/best.pt')\n",
    "# metrics = val_model.val(data='./aiplus.yaml', batch=16, imgsz=640)\n",
    "metrics = val_model.val(data='./aiplus_bi.yaml', batch=16, imgsz=640)"
   ]
  },
  {
   "attachments": {},
   "cell_type": "markdown",
   "metadata": {},
   "source": [
    "### YOLOV8x"
   ]
  },
  {
   "cell_type": "code",
   "execution_count": 6,
   "metadata": {},
   "outputs": [
    {
     "name": "stderr",
     "output_type": "stream",
     "text": [
      "Ultralytics YOLOv8.0.114  Python-3.9.16 torch-2.0.1 CUDA:0 (NVIDIA GeForce RTX 3080 Ti Laptop GPU, 16384MiB)\n",
      "Model summary (fused): 268 layers, 68124531 parameters, 0 gradients\n",
      "\u001b[34m\u001b[1mval: \u001b[0mScanning C:\\Users\\FrankW\\Desktop\\test\\Code_Monkeys\\yolov8\\dataset\\aiplus_yolov8\\aiplus\\labels\\val.cache... 180 images, 0 backgrounds, 0 corrupt: 100%|██████████| 180/180 [00:00<?, ?it/s]\n",
      "                 Class     Images  Instances      Box(P          R      mAP50  mAP50-95): 100%|██████████| 12/12 [00:05<00:00,  2.15it/s]\n",
      "                   all        180        180      0.945      0.955       0.98      0.642\n",
      "Speed: 0.5ms preprocess, 25.3ms inference, 0.0ms loss, 1.3ms postprocess per image\n",
      "Results saved to \u001b[1mruns\\detect\\val5\u001b[0m\n"
     ]
    }
   ],
   "source": [
    "val_model = YOLO('runs/detect/binary_cls/yolov8x/weights/best.pt')\n",
    "metrics = val_model.val(data='./aiplus.yaml', batch=16, imgsz=640)"
   ]
  },
  {
   "attachments": {},
   "cell_type": "markdown",
   "metadata": {},
   "source": [
    "## Multi CLS"
   ]
  },
  {
   "attachments": {},
   "cell_type": "markdown",
   "metadata": {},
   "source": [
    "### YOLOV8n"
   ]
  },
  {
   "cell_type": "code",
   "execution_count": 8,
   "metadata": {},
   "outputs": [
    {
     "name": "stderr",
     "output_type": "stream",
     "text": [
      "Ultralytics YOLOv8.0.114  Python-3.9.16 torch-2.0.1 CUDA:0 (NVIDIA GeForce RTX 3080 Ti Laptop GPU, 16384MiB)\n",
      "Model summary (fused): 168 layers, 3006038 parameters, 0 gradients\n",
      "\u001b[34m\u001b[1mval: \u001b[0mScanning C:\\Users\\FrankW\\Desktop\\test\\Code_Monkeys\\yolov8\\dataset\\aiplus_mc\\aiplus_mc\\labels\\val.cache... 180 images, 0 backgrounds, 0 corrupt: 100%|██████████| 180/180 [00:00<?, ?it/s]\n",
      "                 Class     Images  Instances      Box(P          R      mAP50  mAP50-95): 100%|██████████| 6/6 [00:01<00:00,  3.24it/s]\n",
      "                   all        180        180      0.898      0.926      0.945      0.601\n",
      "                benign        180        104      0.909      0.933      0.957      0.651\n",
      "             malignant        180         76      0.886       0.92      0.933      0.551\n",
      "Speed: 0.8ms preprocess, 2.4ms inference, 0.0ms loss, 1.5ms postprocess per image\n",
      "Results saved to \u001b[1mruns\\detect\\val6\u001b[0m\n"
     ]
    }
   ],
   "source": [
    "val_model = YOLO('runs/detect/multi_cls/yolov8n_mc/weights/best.pt')\n",
    "metrics = val_model.val(data='./aiplus_mc.yaml', batch=32, imgsz=640)"
   ]
  },
  {
   "attachments": {},
   "cell_type": "markdown",
   "metadata": {},
   "source": [
    "### YOLOV8s"
   ]
  },
  {
   "cell_type": "code",
   "execution_count": 9,
   "metadata": {},
   "outputs": [
    {
     "name": "stderr",
     "output_type": "stream",
     "text": [
      "Ultralytics YOLOv8.0.114  Python-3.9.16 torch-2.0.1 CUDA:0 (NVIDIA GeForce RTX 3080 Ti Laptop GPU, 16384MiB)\n",
      "Model summary (fused): 168 layers, 11126358 parameters, 0 gradients\n",
      "\u001b[34m\u001b[1mval: \u001b[0mScanning C:\\Users\\FrankW\\Desktop\\test\\Code_Monkeys\\yolov8\\dataset\\aiplus_mc\\aiplus_mc\\labels\\val.cache... 180 images, 0 backgrounds, 0 corrupt: 100%|██████████| 180/180 [00:00<?, ?it/s]\n",
      "                 Class     Images  Instances      Box(P          R      mAP50  mAP50-95): 100%|██████████| 6/6 [00:02<00:00,  2.71it/s]\n",
      "                   all        180        180      0.925      0.893      0.941      0.592\n",
      "                benign        180        104      0.931      0.904       0.96      0.632\n",
      "             malignant        180         76      0.918      0.881      0.922      0.551\n",
      "Speed: 0.8ms preprocess, 5.2ms inference, 0.0ms loss, 1.2ms postprocess per image\n",
      "Results saved to \u001b[1mruns\\detect\\val7\u001b[0m\n"
     ]
    }
   ],
   "source": [
    "val_model = YOLO('runs/detect/multi_cls/yolov8s_mc/weights/best.pt')\n",
    "metrics = val_model.val(data='./aiplus_mc.yaml', batch=32, imgsz=640)"
   ]
  },
  {
   "attachments": {},
   "cell_type": "markdown",
   "metadata": {},
   "source": [
    "### YOLOV8m"
   ]
  },
  {
   "cell_type": "code",
   "execution_count": 10,
   "metadata": {},
   "outputs": [
    {
     "name": "stderr",
     "output_type": "stream",
     "text": [
      "Ultralytics YOLOv8.0.114  Python-3.9.16 torch-2.0.1 CUDA:0 (NVIDIA GeForce RTX 3080 Ti Laptop GPU, 16384MiB)\n",
      "Model summary (fused): 218 layers, 25840918 parameters, 0 gradients\n",
      "\u001b[34m\u001b[1mval: \u001b[0mScanning C:\\Users\\FrankW\\Desktop\\test\\Code_Monkeys\\yolov8\\dataset\\aiplus_mc\\aiplus_mc\\labels\\val.cache... 180 images, 0 backgrounds, 0 corrupt: 100%|██████████| 180/180 [00:00<?, ?it/s]\n",
      "                 Class     Images  Instances      Box(P          R      mAP50  mAP50-95): 100%|██████████| 6/6 [00:03<00:00,  1.89it/s]\n",
      "                   all        180        180      0.853      0.865      0.901      0.548\n",
      "                benign        180        104      0.934      0.823      0.935        0.6\n",
      "             malignant        180         76      0.771      0.908      0.867      0.496\n",
      "Speed: 0.8ms preprocess, 10.6ms inference, 0.0ms loss, 1.0ms postprocess per image\n",
      "Results saved to \u001b[1mruns\\detect\\val8\u001b[0m\n"
     ]
    }
   ],
   "source": [
    "val_model = YOLO('runs/detect/multi_cls/yolov8m_mc/weights/best.pt')\n",
    "metrics = val_model.val(data='./aiplus_mc.yaml', batch=32, imgsz=640)"
   ]
  },
  {
   "attachments": {},
   "cell_type": "markdown",
   "metadata": {},
   "source": [
    "### YOLOV8l"
   ]
  },
  {
   "cell_type": "code",
   "execution_count": 3,
   "metadata": {},
   "outputs": [
    {
     "name": "stderr",
     "output_type": "stream",
     "text": [
      "Ultralytics YOLOv8.0.114  Python-3.9.16 torch-2.0.1 CUDA:0 (NVIDIA GeForce RTX 3080 Ti Laptop GPU, 16384MiB)\n",
      "Model summary (fused): 268 layers, 43608150 parameters, 0 gradients\n",
      "\u001b[34m\u001b[1mval: \u001b[0mScanning C:\\Users\\FrankW\\Desktop\\test\\Code_Monkeys\\yolov8\\dataset\\aiplus_mc\\aiplus_mc\\labels\\val.cache... 180 images, 0 backgrounds, 0 corrupt: 100%|██████████| 180/180 [00:00<?, ?it/s]\n",
      "                 Class     Images  Instances      Box(P          R      mAP50  mAP50-95): 100%|██████████| 12/12 [00:04<00:00,  2.81it/s]\n",
      "                   all        180        180      0.929      0.873       0.95      0.654\n",
      "                benign        180        104      0.946      0.904      0.974      0.693\n",
      "             malignant        180         76      0.912      0.842      0.926      0.615\n",
      "Speed: 0.5ms preprocess, 15.7ms inference, 0.0ms loss, 1.9ms postprocess per image\n",
      "Results saved to \u001b[1mruns\\detect\\val\u001b[0m\n"
     ]
    }
   ],
   "source": [
    "val_model = YOLO('runs/detect/multi_cls/yolov8l_mc_0.00001/weights/best.pt')\n",
    "metrics = val_model.val(data='./aiplus_mc.yaml', batch=16, imgsz=640)"
   ]
  },
  {
   "attachments": {},
   "cell_type": "markdown",
   "metadata": {},
   "source": [
    "### YOLOV8x"
   ]
  },
  {
   "cell_type": "code",
   "execution_count": 2,
   "metadata": {},
   "outputs": [
    {
     "name": "stderr",
     "output_type": "stream",
     "text": [
      "Ultralytics YOLOv8.0.114  Python-3.9.16 torch-2.0.1 CUDA:0 (NVIDIA GeForce RTX 3080 Ti Laptop GPU, 16384MiB)\n",
      "Model summary (fused): 268 layers, 68125494 parameters, 0 gradients\n",
      "\u001b[34m\u001b[1mval: \u001b[0mScanning C:\\Users\\FrankW\\Desktop\\test\\Code_Monkeys\\yolov8\\dataset\\aiplus_mc\\aiplus_mc\\labels\\val.cache... 180 images, 0 backgrounds, 0 corrupt: 100%|██████████| 180/180 [00:00<?, ?it/s]\n",
      "                 Class     Images  Instances      Box(P          R      mAP50  mAP50-95): 100%|██████████| 12/12 [00:05<00:00,  2.09it/s]\n",
      "                   all        180        180      0.859      0.936      0.954      0.595\n",
      "                benign        180        104      0.941      0.952      0.979      0.609\n",
      "             malignant        180         76      0.777      0.921      0.929      0.582\n",
      "Speed: 0.4ms preprocess, 25.9ms inference, 0.0ms loss, 1.5ms postprocess per image\n",
      "Results saved to \u001b[1mruns\\detect\\val11\u001b[0m\n"
     ]
    }
   ],
   "source": [
    "val_model = YOLO('runs/detect/multi_cls/yolov8x_mc/weights/best.pt')\n",
    "metrics = val_model.val(data='./aiplus_mc.yaml', batch=16, imgsz=640)"
   ]
  },
  {
   "cell_type": "code",
   "execution_count": null,
   "metadata": {},
   "outputs": [],
   "source": []
  }
 ],
 "metadata": {
  "kernelspec": {
   "display_name": "yolov8",
   "language": "python",
   "name": "python3"
  },
  "language_info": {
   "codemirror_mode": {
    "name": "ipython",
    "version": 3
   },
   "file_extension": ".py",
   "mimetype": "text/x-python",
   "name": "python",
   "nbconvert_exporter": "python",
   "pygments_lexer": "ipython3",
   "version": "3.9.16"
  },
  "orig_nbformat": 4
 },
 "nbformat": 4,
 "nbformat_minor": 2
}
